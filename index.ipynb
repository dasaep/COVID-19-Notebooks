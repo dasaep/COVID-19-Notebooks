{
 "cells": [
  {
   "cell_type": "markdown",
   "metadata": {
    "slideshow": {
     "slide_type": "slide"
    }
   },
   "source": [
    "### COVID-19 Pandemic - Disease comparison, Resource Utilization and Financial Impact - A perspective"
   ]
  },
  {
   "cell_type": "code",
   "execution_count": 1,
   "metadata": {
    "slideshow": {
     "slide_type": "skip"
    }
   },
   "outputs": [
    {
     "data": {
      "text/html": [
       "<script>\n",
       "code_show=true; \n",
       "function code_toggle() {\n",
       " if (code_show){\n",
       " $('div.input').hide();\n",
       " } else {\n",
       " $('div.input').show();\n",
       " }\n",
       " code_show = !code_show\n",
       "} \n",
       "$( document ).ready(code_toggle);\n",
       "</script>\n",
       "<form action=\"javascript:code_toggle()\"><input type=\"submit\" value=\"Click here to toggle on/off the raw code.\"></form>"
      ],
      "text/plain": [
       "<IPython.core.display.HTML object>"
      ]
     },
     "execution_count": 1,
     "metadata": {},
     "output_type": "execute_result"
    }
   ],
   "source": [
    "from IPython.display import HTML\n",
    "\n",
    "HTML('''<script>\n",
    "code_show=true; \n",
    "function code_toggle() {\n",
    " if (code_show){\n",
    " $('div.input').hide();\n",
    " } else {\n",
    " $('div.input').show();\n",
    " }\n",
    " code_show = !code_show\n",
    "} \n",
    "$( document ).ready(code_toggle);\n",
    "</script>\n",
    "<form action=\"javascript:code_toggle()\"><input type=\"submit\" value=\"Click here to toggle on/off the raw code.\"></form>''')"
   ]
  },
  {
   "cell_type": "code",
   "execution_count": 2,
   "metadata": {
    "slideshow": {
     "slide_type": "skip"
    }
   },
   "outputs": [],
   "source": [
    "# Import a bunch of libraries.\n",
    "import numpy as np\n",
    "import matplotlib.pyplot as plt\n",
    "import datetime\n",
    "from datetime import timedelta\n",
    "from plotnine import *\n",
    "import plotly.express as px\n",
    "import plotly.io as pio\n",
    "import folium\n",
    "import requests\n",
    "\n",
    "# This tells matplotlib not to try opening a new window for each plot.\n",
    "%matplotlib inline\n",
    "\n",
    "# storing and anaysis\n",
    "import numpy as np\n",
    "import pandas as pd\n",
    "\n",
    "# visualization\n",
    "import altair as alt\n",
    "\n",
    "# display multiple outputs from a single cell\n",
    "from IPython.core.interactiveshell import InteractiveShell\n",
    "InteractiveShell.ast_node_interactivity = \"all\"\n",
    "\n",
    "\n",
    "# support output to HTML\n",
    "from IPython.display import Javascript\n",
    "from IPython.core.display import display, HTML\n",
    "\n",
    "companies = ['FB','GOOGL','MSFT','JPM','BAC','WFC','JNJ','CVS','MRK','UAL','DAL','AAL','MAR','HLT','H']"
   ]
  },
  {
   "cell_type": "code",
   "execution_count": null,
   "metadata": {
    "slideshow": {
     "slide_type": "skip"
    }
   },
   "outputs": [],
   "source": [
    "#VULNERABLE - COUNTIES - PRESENTATION - START\n",
    "# This Python 3 environment comes with many helpful analytics libraries installed\n",
    "# It is defined by the kaggle/python docker image: https://github.com/kaggle/docker-python\n",
    "# For example, here's several helpful packages to load in \n",
    "\n",
    "import altair as alt # For displaying graphs\n",
    "import numpy as np # linear algebra\n",
    "import pandas as pd # data processing, CSV file I/O (e.g. pd.read_csv)\n",
    "import panel as pn\n",
    "import datetime as dt\n",
    "from altair import datum\n",
    "# Input data files are available in the \"../input/\" directory.\n",
    "# For example, running this (by clicking run or pressing Shift+Enter) will list all files under the input directory\n",
    "\n",
    "import os\n",
    "import requests\n",
    "for dirname, _, filenames in os.walk('./icu-data/'):\n",
    "    for filename in filenames:\n",
    "        file = os.path.join(dirname, filename)\n",
    "        #print(file)\n",
    "\n",
    "# Any results you write to the current directory are saved as output.\n",
    "\n",
    "\n",
    "##Financials Notebook - Start\n",
    "listofdf = []\n",
    "days = -70\n",
    "\n",
    "for item in companies:\n",
    "    histprices = requests.get(f\"https://financialmodelingprep.com/api/v3/historical-price-full/{item}?serietype=line\")\n",
    "    histprices = histprices.json()\n",
    "\n",
    "    #Parse the API response and select only last n days of prices\n",
    "    histprices = histprices['historical'][days:]\n",
    "    histpricesdf = pd.DataFrame.from_dict(histprices)\n",
    "    histpricesdf['symbol']= item\n",
    "    histpricesdf = histpricesdf.rename({'close': 'price'}, axis=1) \n",
    "    \n",
    "    #append all dfs to list\n",
    "    listofdf.append(histpricesdf)\n"
   ]
  },
  {
   "cell_type": "code",
   "execution_count": null,
   "metadata": {
    "slideshow": {
     "slide_type": "skip"
    }
   },
   "outputs": [],
   "source": [
    "indexes = ['^DJI','^GSPC','^IXIC']\n",
    "\n",
    "#,'JPM','BAC','JNJ','CVS','UA','DAL','MAR','HLT',,'^DJI','^GSPC','^IXIC','^VIX','^N100','^GDAXI','^N225','^HSI'\n",
    "\n",
    "listofdf_index = []\n",
    "days = 70\n",
    "\n",
    "for item in indexes:\n",
    "    histprices = requests.get(f\"https://financialmodelingprep.com/api/v3/historical-price-full/index/{item}?serietype=line\")\n",
    "    histprices = histprices.json()\n",
    "\n",
    "    #Parse the API response and select only last n days of prices\n",
    "    histprices = histprices['historical'][:days]\n",
    "    histpricesdf = pd.DataFrame.from_dict(histprices)\n",
    "    histpricesdf['symbol']= item\n",
    "    histpricesdf = histpricesdf.rename({'close': 'price'}, axis=1) \n",
    "    \n",
    "    #append all dfs to list\n",
    "    listofdf_index.append(histpricesdf)    "
   ]
  },
  {
   "cell_type": "code",
   "execution_count": null,
   "metadata": {
    "slideshow": {
     "slide_type": "skip"
    }
   },
   "outputs": [],
   "source": [
    "dfs = [df.set_index('date') for df in listofdf]\n",
    "histpriceconcat1 = pd.concat(listofdf,axis=0, sort=True)\n",
    "\n",
    "#histpriceconcat1"
   ]
  },
  {
   "cell_type": "code",
   "execution_count": null,
   "metadata": {
    "slideshow": {
     "slide_type": "skip"
    }
   },
   "outputs": [],
   "source": [
    "\n",
    "dfs = [df.set_index('date') for df in listofdf_index]\n",
    "index= pd.concat(listofdf_index,axis=0, sort=True)\n",
    "#index"
   ]
  },
  {
   "cell_type": "code",
   "execution_count": null,
   "metadata": {
    "slideshow": {
     "slide_type": "skip"
    }
   },
   "outputs": [],
   "source": [
    "df_all=[histpriceconcat1,index]\n",
    "df_all2=pd.concat(df_all,axis=0, sort=True)\n",
    "#df_all2"
   ]
  },
  {
   "cell_type": "code",
   "execution_count": null,
   "metadata": {
    "slideshow": {
     "slide_type": "skip"
    }
   },
   "outputs": [],
   "source": [
    "first_price=df_all2.loc[df_all2['date'] == '2020-01-07']\n",
    "first_price2=first_price.rename({'price': 'first_price'}, axis=1).drop(['date'], axis=1)\n",
    "#first_price2"
   ]
  },
  {
   "cell_type": "code",
   "execution_count": null,
   "metadata": {
    "slideshow": {
     "slide_type": "skip"
    }
   },
   "outputs": [],
   "source": [
    "result = pd.merge(df_all2, first_price2, on=['symbol'])\n",
    "result['change'] = result['price']/result['first_price']-1\n",
    "result2=result.round(2)\n",
    "####result2=result.style.format({'change': \"{:.2%}\"})\n",
    "#result2"
   ]
  },
  {
   "cell_type": "code",
   "execution_count": null,
   "metadata": {
    "slideshow": {
     "slide_type": "skip"
    }
   },
   "outputs": [],
   "source": [
    "def label (row):\n",
    "   #'FB','GOOGL','MSFT','JPM','BAC','WFC','JNJ','CVS','MRK','UA','DAL','AAL','MAR','HLT','H' \n",
    "    if row['symbol'] == '^DJI' :\n",
    "        return 'Dow Jones'\n",
    "    if row['symbol'] == '^GSPC' :\n",
    "        return 'S&P 500'\n",
    "    if row['symbol'] == '^IXIC':\n",
    "        return 'Nasdaq'\n",
    "    if row['symbol'] == 'FB' :\n",
    "        return 'Facebook-Tech'\n",
    "    if row['symbol'] == 'MSFT' :\n",
    "        return 'Microsoft-Tech'\n",
    "    if row['symbol'] == 'GOOGL':\n",
    "        return 'Google-Tech'\n",
    "    if row['symbol'] == 'JPM' :\n",
    "        return 'JP Morgan-Financial'\n",
    "    if row['symbol'] == 'BAC' :\n",
    "        return 'Bank of America-Financial'\n",
    "    if row['symbol'] == 'WFC':\n",
    "        return 'Wells Fargo-Financial'\n",
    "    if row['symbol'] == 'CVS' :\n",
    "        return 'CVS-Health'\n",
    "    if row['symbol'] == 'JNJ' :\n",
    "        return 'Johnson & Johnson-Health'\n",
    "    if row['symbol'] == 'MRK':\n",
    "        return 'Merk-Health'\n",
    "    if row['symbol'] == 'UAL' :\n",
    "        return 'United Airline-Airline'\n",
    "    if row['symbol'] == 'AAL' :\n",
    "        return 'American Airelin-Airline'\n",
    "    if row['symbol'] == 'DAL':\n",
    "        return 'Delta Airline-Airline'\n",
    "    if row['symbol'] == 'MAR':\n",
    "        return 'Marriott-Hotel'\n",
    "    if row['symbol'] == 'HTL' :\n",
    "        return 'Hilto-Hotel'\n",
    "    if row['symbol'] == 'H' :\n",
    "        return 'Hayyt-Hotel'\n",
    "    return 'Other'\n"
   ]
  },
  {
   "cell_type": "code",
   "execution_count": null,
   "metadata": {
    "slideshow": {
     "slide_type": "skip"
    }
   },
   "outputs": [],
   "source": [
    "result2['label'] = result2.apply (lambda row: label(row), axis=1)"
   ]
  },
  {
   "cell_type": "code",
   "execution_count": null,
   "metadata": {
    "slideshow": {
     "slide_type": "skip"
    }
   },
   "outputs": [],
   "source": [
    "df_index = result2.loc[result['symbol'].isin(['^DJI','^GSPC','^IXIC'])]\n",
    "\n",
    "#df_index.style.format({'change': \"{:.2%}\"})"
   ]
  },
  {
   "cell_type": "markdown",
   "metadata": {
    "slideshow": {
     "slide_type": "skip"
    }
   },
   "source": [
    "# **Data that specifies ICU Beds by State and County. It also factors in the Seniors (60+) in the County**"
   ]
  },
  {
   "cell_type": "code",
   "execution_count": null,
   "metadata": {
    "slideshow": {
     "slide_type": "skip"
    }
   },
   "outputs": [],
   "source": [
    "demoGraphicAndICUByCounty = pd.read_csv(file)\n",
    "#print(\"Summary of ICU Beds per State and County with Residents (60+) per ICU Bed\")\n",
    "demoGraphicAndICUByCounty = demoGraphicAndICUByCounty.rename(columns = {\"ICU Beds\":\"ICU_Beds\",\"Total Population\":\"Total_Population\",\"Population Aged 60+\":\"Population_Aged_60+\",\"Percent of Population Aged 60+\":\"Percent_Population_Aged_60\",\"Residents Aged 60+ Per Each ICU Bed\":\"Residents_Per_ICU_Bed\"})\n",
    "#demoGraphicAndICUByCounty"
   ]
  },
  {
   "cell_type": "markdown",
   "metadata": {
    "slideshow": {
     "slide_type": "skip"
    }
   },
   "source": [
    "# **Data that specifies US County wise daily COVID19 count. This is a time series data account from 01 / Jan /2020)**"
   ]
  },
  {
   "cell_type": "code",
   "execution_count": null,
   "metadata": {
    "slideshow": {
     "slide_type": "skip"
    }
   },
   "outputs": [],
   "source": [
    "jhuDailyDataSet=pd.read_csv('./us-counties/us-counties.csv')\n",
    "#print(\"Summary of JHU Daily Dataset across the US (Starting Jan 01 2020)\")\n",
    "#jhuDailyDataSet"
   ]
  },
  {
   "cell_type": "code",
   "execution_count": null,
   "metadata": {
    "slideshow": {
     "slide_type": "skip"
    }
   },
   "outputs": [],
   "source": [
    "countWithNoICUBeds = demoGraphicAndICUByCounty.query(\"ICU_Beds==0\")\n",
    "#countWithNoICUBeds\n",
    "countiesWithICUBeds = demoGraphicAndICUByCounty.query(\"ICU_Beds>0\")"
   ]
  },
  {
   "cell_type": "markdown",
   "metadata": {
    "slideshow": {
     "slide_type": "skip"
    }
   },
   "source": [
    "## BRIEF TEXT SUMMARY"
   ]
  },
  {
   "cell_type": "code",
   "execution_count": null,
   "metadata": {
    "slideshow": {
     "slide_type": "skip"
    }
   },
   "outputs": [],
   "source": [
    "comp = pd.read_csv('data/comp.csv', parse_dates=['Start', 'End'])"
   ]
  },
  {
   "cell_type": "markdown",
   "metadata": {
    "slideshow": {
     "slide_type": "slide"
    }
   },
   "source": [
    "## Into The World of Pandemics... A Comparison\n",
    "\n",
    "In this section, we will compare and contrast the five major pandemics in the 21st century.  These pandemics are:\n",
    "\n",
    "* Covid-19 of 2019\n",
    "* Ebola of 2014\n",
    "* MERS of 2012\n",
    "* H1N1 of 2009\n",
    "* SARS of 2003"
   ]
  },
  {
   "cell_type": "markdown",
   "metadata": {
    "slideshow": {
     "slide_type": "subslide"
    }
   },
   "source": [
    "### Overview\n",
    "\n",
    "The interactive chart below shows the recent five major pandemics in the 21st century along with the seaonsal flu.  Place your cursor over any colored bar to learn more about each pandemic."
   ]
  },
  {
   "cell_type": "code",
   "execution_count": null,
   "metadata": {
    "slideshow": {
     "slide_type": "skip"
    }
   },
   "outputs": [],
   "source": [
    "pandemicChart = alt.Chart(comp).mark_bar(size=10.0).encode(\n",
    "    x = 'Start:T',\n",
    "    x2 = 'End:T',\n",
    "    y = 'Epidemic:N',\n",
    "    color = 'Epidemic',\n",
    "    tooltip = ['Epidemic', 'Key Symptoms', 'First Detection', 'Global Cases', 'Global Deaths',\n",
    "               'Transmission', 'Most Affected Groups', 'Treatments Available', 'Vaccines Available',\n",
    "               'End of Epidemic']\n",
    ")"
   ]
  },
  {
   "cell_type": "code",
   "execution_count": null,
   "metadata": {
    "slideshow": {
     "slide_type": "fragment"
    }
   },
   "outputs": [],
   "source": [
    "pandemicChart.interactive()"
   ]
  },
  {
   "cell_type": "markdown",
   "metadata": {
    "slideshow": {
     "slide_type": "skip"
    }
   },
   "source": [
    "## COVID-19 DATALOAD"
   ]
  },
  {
   "cell_type": "code",
   "execution_count": null,
   "metadata": {
    "slideshow": {
     "slide_type": "skip"
    }
   },
   "outputs": [],
   "source": [
    "# COVID-19\n",
    "# --------\n",
    "\n",
    "# covid_19 dataset\n",
    "covid_19 = pd.read_csv('data/covid_19_clean_complete.csv', parse_dates=['Date'])\n",
    "\n",
    "# selecting important columns only\n",
    "covid_19 = covid_19[['Date', 'Country/Region', 'Confirmed', 'Deaths', 'Recovered']]\n",
    "\n",
    "# replacing Mainland china with just China\n",
    "covid_19['Country/Region'] = covid_19['Country/Region'].replace('Mainland China', 'China')\n",
    "\n",
    "# renaming columns\n",
    "covid_19.columns = ['Date', 'Country', 'Cases', 'Deaths', 'Recovered']\n",
    "\n",
    "# group by date and country\n",
    "covid_19 = covid_19.groupby(['Date', 'Country'])['Cases', 'Deaths', 'Recovered']\n",
    "covid_19 = covid_19.sum().reset_index()\n",
    "\n",
    "# latest\n",
    "c_lat = covid_19[covid_19['Date'] == max(covid_19['Date'])].reset_index()\n",
    "\n",
    "# latest grouped by country\n",
    "c_lat_grp = c_lat.groupby('Country')['Cases', 'Deaths', 'Recovered'].sum().reset_index()\n",
    "c_lat_grp['sqrtCases'] = np.sqrt(c_lat_grp['Cases'])\n",
    "\n",
    "# nth day\n",
    "covid_19['nth_day'] = (covid_19['Date'] - min(covid_19['Date'])).dt.days\n",
    "\n",
    "# day by day\n",
    "c_dbd = covid_19.groupby('Date')['Cases', 'Deaths', 'Recovered'].sum().reset_index()\n",
    "\n",
    "# nth day\n",
    "c_dbd['nth_day'] = covid_19.groupby('Date')['nth_day'].max().values\n",
    "\n",
    "# mortality rate\n",
    "c_dbd['Mortality'] = c_dbd['Deaths'] / c_dbd['Cases'] * 100\n",
    "\n",
    "# no. of countries\n",
    "temp = covid_19[covid_19['Cases']>0]\n",
    "c_dbd['n_countries'] = temp.groupby('Date')['Country'].apply(len).values"
   ]
  },
  {
   "cell_type": "markdown",
   "metadata": {
    "slideshow": {
     "slide_type": "skip"
    }
   },
   "source": [
    "## EBOLA DATALOAD"
   ]
  },
  {
   "cell_type": "code",
   "execution_count": null,
   "metadata": {
    "slideshow": {
     "slide_type": "skip"
    }
   },
   "outputs": [],
   "source": [
    "# EBOLA\n",
    "# ------\n",
    "\n",
    "# ebola dataset\n",
    "ebola_14 = pd.read_csv(\"data/ebola_2014_2016_clean.csv\", parse_dates=['Date'])\n",
    "\n",
    "# selecting important columns only\n",
    "ebola_14 = ebola_14[['Date', 'Country', 'No. of confirmed, probable and suspected cases',\n",
    "                     'No. of confirmed, probable and suspected deaths']]\n",
    "\n",
    "# renaming columns\n",
    "ebola_14.columns = ['Date', 'Country', 'Cases', 'Deaths']"
   ]
  },
  {
   "cell_type": "code",
   "execution_count": null,
   "metadata": {
    "slideshow": {
     "slide_type": "skip"
    }
   },
   "outputs": [],
   "source": [
    "# temp = ebola_14.copy()\n",
    "\n",
    "# for c in ebola_14['Country'].unique():\n",
    "#     temp_data = ebola_14[ebola_14['Country'] == c]\n",
    "#     idx = ebola_14.index[ebola_14['Country'] == c]\n",
    "\n",
    "#     for i in range(len(idx)-1):        \n",
    "#         if ((temp_data.loc[idx[i+1]]['Date'] - temp_data.loc[idx[i]]['Date']) >= timedelta(days=2)):\n",
    "#             tracker = temp_data.loc[idx[i]]['Date'] + timedelta(days=1)  \n",
    "            \n",
    "#             while tracker < temp_data.loc[idx[i+1]]['Date']:\n",
    "#                 cases = temp_data.loc[idx[i]]['Cases']\n",
    "#                 deaths = temp_data.loc[idx[i]]['Deaths']\n",
    "#                 to_add = pd.DataFrame([{'Date': tracker, \n",
    "#                                        'Country': c, \n",
    "#                                        'Cases': cases, \n",
    "#                                        'Deaths': deaths}])\n",
    "#                 temp = temp.append(to_add, ignore_index = True)\n",
    "#                 tracker += timedelta(days=1)\n",
    "\n",
    "# ebola_14 = temp"
   ]
  },
  {
   "cell_type": "code",
   "execution_count": null,
   "metadata": {
    "slideshow": {
     "slide_type": "skip"
    }
   },
   "outputs": [],
   "source": [
    "# group by date and country\n",
    "ebola_14 = ebola_14.groupby(['Date', 'Country'])['Cases', 'Deaths']\n",
    "ebola_14 = ebola_14.sum().reset_index()\n",
    "\n",
    "# filling missing values\n",
    "ebola_14['Cases'] = ebola_14['Cases'].fillna(0)\n",
    "ebola_14['Deaths'] = ebola_14['Deaths'].fillna(0)\n",
    "\n",
    "# converting datatypes\n",
    "ebola_14['Cases'] = ebola_14['Cases'].astype('int')\n",
    "ebola_14['Deaths'] = ebola_14['Deaths'].astype('int')\n",
    "\n",
    "# latest\n",
    "e_lat = ebola_14[ebola_14['Date'] == max(ebola_14['Date'])].reset_index()\n",
    "\n",
    "# latest grouped by country\n",
    "e_lat_grp = e_lat.groupby('Country')['Cases', 'Deaths'].sum().reset_index()\n",
    "\n",
    "# nth day\n",
    "ebola_14['nth_day'] = (ebola_14['Date'] - min(ebola_14['Date'])).dt.days\n",
    "\n",
    "# day by day\n",
    "e_dbd = ebola_14.groupby('Date')['Cases', 'Deaths'].sum().reset_index()\n",
    "\n",
    "# nth day\n",
    "e_dbd['nth_day'] = ebola_14.groupby('Date')['nth_day'].max().values\n",
    "\n",
    "# mortality rate\n",
    "e_dbd['Mortality'] = e_dbd['Deaths'] / e_dbd['Cases'] * 100\n",
    "\n",
    "# no. of countries\n",
    "temp = ebola_14[ebola_14['Cases']>0]\n",
    "e_dbd['n_countries'] = temp.groupby('Date')['Country'].apply(len).values\n",
    "\n",
    "ebola_14['Recovered'] = 0\n",
    "ebola_14 = ebola_14[['Date','Country','Cases','Deaths','Recovered','nth_day']]"
   ]
  },
  {
   "cell_type": "markdown",
   "metadata": {
    "slideshow": {
     "slide_type": "skip"
    }
   },
   "source": [
    "## SARS DATALOAD"
   ]
  },
  {
   "cell_type": "code",
   "execution_count": null,
   "metadata": {
    "slideshow": {
     "slide_type": "skip"
    }
   },
   "outputs": [],
   "source": [
    "# SARS\n",
    "# ----\n",
    "\n",
    "# sars dataset\n",
    "sars_03 = pd.read_csv(\"data/sars_2003_complete_dataset_clean.csv\", parse_dates=['Date'])\n",
    "\n",
    "# selecting important columns only\n",
    "sars_03 = sars_03[['Date', 'Country', 'Cumulative number of case(s)', \n",
    "                   'Number of deaths', 'Number recovered']]\n",
    "\n",
    "# renaming columns\n",
    "sars_03.columns = ['Date', 'Country', 'Cases', 'Deaths', 'Recovered']\n",
    "\n",
    "# group by date and country\n",
    "sars_03 = sars_03.groupby(['Date', 'Country'])['Cases', 'Deaths', 'Recovered']\n",
    "sars_03 = sars_03.sum().reset_index()"
   ]
  },
  {
   "cell_type": "code",
   "execution_count": null,
   "metadata": {
    "slideshow": {
     "slide_type": "skip"
    }
   },
   "outputs": [],
   "source": [
    "temp = sars_03.copy()\n",
    "\n",
    "for c in sars_03['Country'].unique():\n",
    "    temp_data = sars_03[sars_03['Country'] == c]\n",
    "    idx = sars_03.index[sars_03['Country'] == c]\n",
    "\n",
    "    for i in range(len(idx)-1):        \n",
    "        if ((temp_data.loc[idx[i+1]]['Date'] - temp_data.loc[idx[i]]['Date']) >= timedelta(days=2)):\n",
    "            tracker = temp_data.loc[idx[i]]['Date'] + timedelta(days=1)  \n",
    "            \n",
    "            while tracker < temp_data.loc[idx[i+1]]['Date']:\n",
    "                cases = temp_data.loc[idx[i]]['Cases']\n",
    "                deaths = temp_data.loc[idx[i]]['Deaths']\n",
    "                recovered = temp_data.loc[idx[i]]['Recovered']\n",
    "                to_add = pd.DataFrame([{'Date': tracker, \n",
    "                                       'Country': c, \n",
    "                                       'Cases': cases, \n",
    "                                       'Deaths': deaths,\n",
    "                                       'Recovered': recovered}])\n",
    "                temp = temp.append(to_add, ignore_index = True)\n",
    "                tracker += timedelta(days=1)\n",
    "\n",
    "sars_03 = temp"
   ]
  },
  {
   "cell_type": "code",
   "execution_count": null,
   "metadata": {
    "slideshow": {
     "slide_type": "skip"
    }
   },
   "outputs": [],
   "source": [
    "# latest\n",
    "s_lat = sars_03[sars_03['Date'] == max(sars_03['Date'])].reset_index()\n",
    "\n",
    "# latest grouped by country\n",
    "s_lat_grp = s_lat.groupby('Country')['Cases', 'Deaths', 'Recovered'].sum().reset_index()\n",
    "\n",
    "# nth day\n",
    "sars_03['nth_day'] = (sars_03['Date'] - min(sars_03['Date'])).dt.days\n",
    "\n",
    "# day by day\n",
    "s_dbd = sars_03.groupby('Date')['Cases', 'Deaths', 'Recovered'].sum().reset_index()\n",
    "\n",
    "# nth day\n",
    "s_dbd['nth_day'] = sars_03.groupby('Date')['nth_day'].max().values\n",
    "\n",
    "# mortality rate\n",
    "s_dbd['Mortality'] = s_dbd['Deaths'] / s_dbd['Cases'] * 100\n",
    "\n",
    "# no. of countries\n",
    "temp = sars_03[sars_03['Cases']>0]\n",
    "s_dbd['n_countries'] = temp.groupby('Date')['Country'].apply(len).values"
   ]
  },
  {
   "cell_type": "markdown",
   "metadata": {
    "slideshow": {
     "slide_type": "skip"
    }
   },
   "source": [
    "## H1N1 DATALOAD"
   ]
  },
  {
   "cell_type": "code",
   "execution_count": null,
   "metadata": {
    "slideshow": {
     "slide_type": "skip"
    }
   },
   "outputs": [],
   "source": [
    "# H1N1\n",
    "# ----\n",
    "\n",
    "# h1n1 dataset\n",
    "h1n1_09 = pd.read_csv(\"data/Pandemic (H1N1) 2009.csv\", parse_dates=['Update Time'])\n",
    "\n",
    "# retain the date portion of 'Update Time'\n",
    "h1n1_09['Date'] = h1n1_09['Update Time'].dt.date\n",
    "\n",
    "# keep relevant columns\n",
    "h1n1_09 = h1n1_09[['Date', 'Country', 'Cases', 'Deaths']]"
   ]
  },
  {
   "cell_type": "code",
   "execution_count": null,
   "metadata": {
    "scrolled": false,
    "slideshow": {
     "slide_type": "skip"
    }
   },
   "outputs": [],
   "source": [
    "temp = h1n1_09.copy()\n",
    "\n",
    "for c in h1n1_09['Country'].unique():\n",
    "    temp_data = h1n1_09[h1n1_09['Country'] == c]\n",
    "    idx = h1n1_09.index[h1n1_09['Country'] == c]\n",
    "\n",
    "    for i in range(len(idx)-1):        \n",
    "        if ((temp_data.loc[idx[i+1]]['Date'] - temp_data.loc[idx[i]]['Date']) >= timedelta(days=2)):\n",
    "            tracker = temp_data.loc[idx[i]]['Date'] + timedelta(days=1)  \n",
    "            \n",
    "            while tracker < temp_data.loc[idx[i+1]]['Date']:\n",
    "                cases = temp_data.loc[idx[i]]['Cases']\n",
    "                deaths = temp_data.loc[idx[i]]['Deaths']\n",
    "                to_add = pd.DataFrame([{'Date': tracker, \n",
    "                                       'Country': c, \n",
    "                                       'Cases': cases, \n",
    "                                       'Deaths': deaths}])\n",
    "                temp = temp.append(to_add, ignore_index = True)\n",
    "                tracker += timedelta(days=1)\n",
    "\n",
    "h1n1_09 = temp"
   ]
  },
  {
   "cell_type": "code",
   "execution_count": null,
   "metadata": {
    "slideshow": {
     "slide_type": "skip"
    }
   },
   "outputs": [],
   "source": [
    "# latest\n",
    "h_lat = h1n1_09[h1n1_09['Date'] == max(h1n1_09['Date'])].reset_index()\n",
    "\n",
    "# latest grouped by country\n",
    "h_lat_grp = h_lat.groupby('Country')['Cases', 'Deaths'].sum().reset_index()\n",
    "\n",
    "# nth day calculation and reverse the row order\n",
    "h1n1_09['nth_day'] = (h1n1_09['Date'] - min(h1n1_09['Date'])).dt.days\n",
    "h1n1_09 = h1n1_09.iloc[::-1].reset_index(drop=True)\n",
    "\n",
    "# fill NaN with 0\n",
    "h1n1_09 = h1n1_09.fillna(0)\n",
    "\n",
    "# change 'Deaths' column to integers\n",
    "h1n1_09['Deaths'] = h1n1_09['Deaths'].astype(int)\n",
    "\n",
    "# day by day\n",
    "h_dbd = h1n1_09.groupby('Date')['Cases', 'Deaths'].sum().reset_index()\n",
    "\n",
    "# nth day\n",
    "h_dbd['nth_day'] = h1n1_09.groupby('Date')['nth_day'].max().values\n",
    "\n",
    "# mortality rate\n",
    "h_dbd['Mortality'] = h_dbd['Deaths'] / h_dbd['Cases'] * 100\n",
    "\n",
    "# no. of countries\n",
    "temp = h1n1_09[h1n1_09['Cases']>0]\n",
    "h_dbd['n_countries'] = temp.groupby('Date')['Country'].apply(len).values"
   ]
  },
  {
   "cell_type": "markdown",
   "metadata": {
    "slideshow": {
     "slide_type": "skip"
    }
   },
   "source": [
    "## MERS DATALOAD"
   ]
  },
  {
   "cell_type": "code",
   "execution_count": null,
   "metadata": {
    "slideshow": {
     "slide_type": "skip"
    }
   },
   "outputs": [],
   "source": [
    "# MERS\n",
    "# ------\n",
    "\n",
    "# mers dataset\n",
    "mers_12 = pd.read_csv(\"data/mers_weekly_clean.csv\")\n",
    "mers_cntry = pd.read_csv(\"data/mers_country_count_latest.csv\")\n",
    "\n",
    "# transforming data to obtain 'Date'\n",
    "mers_12['Date'] = mers_12.apply(lambda row: str(row['Year']) + '-W' + str(row['Week']) +'-1', axis=1)\n",
    "test = datetime.datetime.strptime('2012-W12-1', '%Y-W%W-%w')\n",
    "mers_12['Date'] = mers_12.apply(lambda row: datetime.datetime.strptime(row['Date'], '%Y-W%W-%w'), axis=1)\n",
    "\n",
    "# keeping important columns only\n",
    "mers_12 = mers_12[['Region', 'New Cases', 'Date']]\n",
    "\n",
    "# renaming and rearranging columns\n",
    "mers_12.columns = ['Country', 'Cases', 'Date']\n",
    "mers_12 = mers_12[['Date', 'Country', 'Cases']]\n",
    "\n",
    "# calculate cumulative cases\n",
    "temp = pd.DataFrame({'Date':[], 'Country':[], 'Cases':[]})\n",
    "\n",
    "for c in mers_12.Country.unique():\n",
    "    temp_df = mers_12[mers_12['Country']==c]\n",
    "    temp_df['Cases'] = temp_df['Cases'].cumsum()\n",
    "    temp = temp.append(temp_df, ignore_index = True)\n",
    "    \n",
    "mers_12 = temp"
   ]
  },
  {
   "cell_type": "code",
   "execution_count": null,
   "metadata": {
    "slideshow": {
     "slide_type": "skip"
    }
   },
   "outputs": [],
   "source": [
    "# latest\n",
    "m_lat = mers_12[mers_12['Date'] == max(mers_12['Date'])].reset_index()\n",
    "\n",
    "# latest grouped by country\n",
    "m_lat_grp = m_lat.groupby('Country')['Cases'].sum().reset_index()\n",
    "\n",
    "# nth day\n",
    "mers_12['nth_day'] = (mers_12['Date'] - min(mers_12['Date'])).dt.days\n",
    "\n",
    "# day by day\n",
    "m_dbd = mers_12.groupby('Date')['Cases'].sum().reset_index()\n",
    "\n",
    "# nth day\n",
    "m_dbd['nth_day'] = mers_12.groupby('Date')['nth_day'].max().values\n",
    "\n",
    "# # no. of countries\n",
    "# temp = sars_03[sars_03['Cases']>0]\n",
    "# s_dbd['n_countries'] = temp.groupby('Date')['Country'].apply(len).values"
   ]
  },
  {
   "cell_type": "markdown",
   "metadata": {
    "slideshow": {
     "slide_type": "skip"
    }
   },
   "source": [
    "## MERGING DATA"
   ]
  },
  {
   "cell_type": "code",
   "execution_count": null,
   "metadata": {
    "slideshow": {
     "slide_type": "skip"
    }
   },
   "outputs": [],
   "source": [
    "e_dbd['new_cases'] = e_dbd['Cases'].diff()\n",
    "c_dbd['new_cases'] = c_dbd['Cases'].diff()\n",
    "s_dbd['new_cases'] = s_dbd['Cases'].diff()\n",
    "h_dbd['new_cases'] = h_dbd['Cases'].diff()\n",
    "m_dbd['new_cases'] = m_dbd['Cases'].diff()\n",
    "\n",
    "e_dbd['new_deaths'] = e_dbd['Deaths'].diff()\n",
    "c_dbd['new_deaths'] = c_dbd['Deaths'].diff()\n",
    "s_dbd['new_deaths'] = s_dbd['Deaths'].diff()\n",
    "h_dbd['new_deaths'] = h_dbd['Deaths'].diff()\n",
    "\n",
    "e_dbd['epidemic'] = 'EBOLA'\n",
    "c_dbd['epidemic'] = 'COVID-19'\n",
    "s_dbd['epidemic'] = 'SARS'\n",
    "h_dbd['epidemic'] = 'H1N1'\n",
    "m_dbd['epidemic'] = 'MERS'"
   ]
  },
  {
   "cell_type": "code",
   "execution_count": null,
   "metadata": {
    "slideshow": {
     "slide_type": "skip"
    }
   },
   "outputs": [],
   "source": [
    "c_lat_grp[\"log_Cases\"] = np.log(c_lat_grp[\"Cases\"])\n",
    "e_lat_grp[\"log_Cases\"] = np.log(e_lat_grp[\"Cases\"])\n",
    "s_lat_grp[\"log_Cases\"] = np.log(s_lat_grp[\"Cases\"])\n",
    "h_lat_grp[\"log_Cases\"] = np.log(h_lat_grp[\"Cases\"])\n",
    "\n",
    "c_lat_grp[\"log_Deaths\"] = np.log(c_lat_grp[\"Deaths\"]+1)\n",
    "e_lat_grp[\"log_Deaths\"] = np.log(e_lat_grp[\"Deaths\"]+1)\n",
    "s_lat_grp[\"log_Deaths\"] = np.log(s_lat_grp[\"Deaths\"]+1)\n",
    "h_lat_grp[\"log_Deaths\"] = np.log(h_lat_grp[\"Deaths\"]+1)"
   ]
  },
  {
   "cell_type": "code",
   "execution_count": null,
   "metadata": {
    "slideshow": {
     "slide_type": "skip"
    }
   },
   "outputs": [],
   "source": [
    "covid_19['Epidemic'] = 'COVID-19'\n",
    "ebola_14['Epidemic'] = 'EBOLA'\n",
    "sars_03['Epidemic'] = 'SARS'\n",
    "h1n1_09['Epidemic'] = 'H1N1'\n",
    "mers_12['Epidemic'] = 'MERS'"
   ]
  },
  {
   "cell_type": "code",
   "execution_count": null,
   "metadata": {
    "slideshow": {
     "slide_type": "skip"
    }
   },
   "outputs": [],
   "source": [
    "data = pd.concat([c_dbd, s_dbd, e_dbd, h_dbd, m_dbd])\n",
    "data.head()"
   ]
  },
  {
   "cell_type": "code",
   "execution_count": null,
   "metadata": {
    "slideshow": {
     "slide_type": "skip"
    }
   },
   "outputs": [],
   "source": [
    "alt.data_transformers.enable('json')"
   ]
  },
  {
   "cell_type": "markdown",
   "metadata": {
    "slideshow": {
     "slide_type": "subslide"
    }
   },
   "source": [
    "### Spread Across the Globe\n",
    "\n",
    "Scroll to the world map of the pandemic of interest.  Place mouse over the country to learn the number of reported cases.  With the mouse over the world map, scroll up and down to zoom in and out."
   ]
  },
  {
   "cell_type": "code",
   "execution_count": null,
   "metadata": {
    "scrolled": false,
    "slideshow": {
     "slide_type": "skip"
    }
   },
   "outputs": [],
   "source": [
    "covidFig = px.choropleth(c_lat_grp, locations=\"Country\", locationmode='country names',\n",
    "                    color=\"Cases\", hover_name=\"Country\", \n",
    "                    color_continuous_scale=\"reds\", title='COVID-19 REPORTED CASES')\n",
    "# fig.update(layout_coloraxis_showscale=False)\n",
    "\n",
    "\n",
    "#-----------------------------------------------------------------------------------------\n",
    "\n",
    "ebolaFig = px.choropleth(e_lat_grp, locations=\"Country\", locationmode='country names',\n",
    "                    color=\"Cases\", hover_name=\"Country\", \n",
    "                    color_continuous_scale=\"reds\", title='EBOLA 2014 REPORTED CASES')\n",
    "# fig.update(layout_coloraxis_showscale=False)\n",
    "\n",
    "\n",
    "#-----------------------------------------------------------------------------------------\n",
    "\n",
    "sarsFig = px.choropleth(s_lat_grp, locations=\"Country\", locationmode='country names',\n",
    "                    color=\"Cases\", hover_name=\"Country\", \n",
    "                    color_continuous_scale=\"reds\", title='SARS 2003 REPORTED CASES')\n",
    "# fig.update(layout_coloraxis_showscale=False)\n",
    "\n",
    "\n",
    "#-----------------------------------------------------------------------------------------\n",
    "\n",
    "h1n1Fig = px.choropleth(h_lat_grp, locations=\"Country\", locationmode='country names',\n",
    "                    color=\"Cases\", hover_name=\"Country\", \n",
    "                    color_continuous_scale=\"reds\", title='H1N1 2009 REPORTED CASES')\n",
    "# fig.update(layout_coloraxis_showscale=False)\n",
    "\n",
    "\n",
    "#-----------------------------------------------------------------------------------------\n",
    "\n",
    "mersFig = px.choropleth(m_lat_grp, locations=\"Country\", locationmode='country names',\n",
    "                    color=\"Cases\", hover_name=\"Country\", \n",
    "                    color_continuous_scale=\"reds\", title='MERS 2012 REPORTED CASES')\n",
    "# fig.update(layout_coloraxis_showscale=False)"
   ]
  },
  {
   "cell_type": "code",
   "execution_count": null,
   "metadata": {
    "slideshow": {
     "slide_type": "subslide"
    }
   },
   "outputs": [],
   "source": [
    "covidFig.show()"
   ]
  },
  {
   "cell_type": "code",
   "execution_count": null,
   "metadata": {
    "slideshow": {
     "slide_type": "subslide"
    }
   },
   "outputs": [],
   "source": [
    "ebolaFig.show()"
   ]
  },
  {
   "cell_type": "code",
   "execution_count": null,
   "metadata": {
    "slideshow": {
     "slide_type": "subslide"
    }
   },
   "outputs": [],
   "source": [
    "sarsFig.show()"
   ]
  },
  {
   "cell_type": "code",
   "execution_count": null,
   "metadata": {
    "slideshow": {
     "slide_type": "subslide"
    }
   },
   "outputs": [],
   "source": [
    "h1n1Fig.show()"
   ]
  },
  {
   "cell_type": "code",
   "execution_count": null,
   "metadata": {
    "scrolled": false,
    "slideshow": {
     "slide_type": "subslide"
    }
   },
   "outputs": [],
   "source": [
    "mersFig.show()"
   ]
  },
  {
   "cell_type": "markdown",
   "metadata": {
    "slideshow": {
     "slide_type": "subslide"
    }
   },
   "source": [
    "### Reported Cases By Day\n",
    "\n",
    "The line chart on the next slide shows the number of reported cases of each pandemic by day.  The view window (narrow window on the bottom) is interactive.  Double click on the view window and drag the mouse to select a timeframe of interest.  Click and hold the mouse and drag left and right to slide the selected timeframe.  With the mouse over the selected timeframe, scroll up and down to widen and shrink the selected timeframe."
   ]
  },
  {
   "cell_type": "code",
   "execution_count": null,
   "metadata": {
    "scrolled": false,
    "slideshow": {
     "slide_type": "skip"
    }
   },
   "outputs": [],
   "source": [
    "interval_cases = alt.selection_interval(encodings=['x'])\n",
    "\n",
    "base_cases = alt.Chart(data).mark_line(clip=True).encode(\n",
    "    x = alt.X('nth_day:Q', scale=alt.Scale(domain=(0,600))),\n",
    "    y = 'Cases:Q',\n",
    "    color = 'epidemic'\n",
    ")\n",
    "\n",
    "chart_cases = base_cases.properties(\n",
    "    width=800,\n",
    "    height=300\n",
    ").encode(\n",
    "    x=alt.X('nth_day:Q', scale=alt.Scale(domain=interval_cases.ref()))\n",
    ")\n",
    "\n",
    "view_cases = base_cases.properties(\n",
    "    width=800,\n",
    "    height=50,\n",
    "    selection=interval_cases\n",
    ")"
   ]
  },
  {
   "cell_type": "code",
   "execution_count": null,
   "metadata": {
    "slideshow": {
     "slide_type": "subslide"
    }
   },
   "outputs": [],
   "source": [
    "chart_cases & view_cases"
   ]
  },
  {
   "cell_type": "markdown",
   "metadata": {
    "slideshow": {
     "slide_type": "subslide"
    }
   },
   "source": [
    "### Reported Deaths By Day\n",
    "\n",
    "The line chart on the next slide shows the number of reported deaths of each pandemic by day.  The view window (narrow window on the bottom) is interactive.  Double click on the view window and drag the mouse to select a timeframe of interest.  Click and hold the mouse and drag left and right to slide the selected timeframe.  With the mouse over the selected timeframe, scroll up and down to widen and shrink the selected timeframe."
   ]
  },
  {
   "cell_type": "code",
   "execution_count": null,
   "metadata": {
    "slideshow": {
     "slide_type": "skip"
    }
   },
   "outputs": [],
   "source": [
    "interval_deaths = alt.selection_interval(encodings=['x'])\n",
    "\n",
    "base_deaths = alt.Chart(data).mark_line().encode(\n",
    "    x = alt.X('nth_day:Q', scale=alt.Scale(domain=(0,600))),\n",
    "    y = 'Deaths:Q',\n",
    "    color = 'epidemic'\n",
    ")\n",
    "\n",
    "chart_deaths = base_deaths.properties(\n",
    "    width=800,\n",
    "    height=300\n",
    ").encode(\n",
    "    x=alt.X('nth_day:Q', scale=alt.Scale(domain=interval_deaths.ref()))\n",
    ")\n",
    "\n",
    "view_deaths = base_deaths.properties(\n",
    "    width=800,\n",
    "    height=50,\n",
    "    selection=interval_deaths\n",
    ")"
   ]
  },
  {
   "cell_type": "code",
   "execution_count": null,
   "metadata": {
    "slideshow": {
     "slide_type": "subslide"
    }
   },
   "outputs": [],
   "source": [
    "chart_deaths & view_deaths"
   ]
  },
  {
   "cell_type": "markdown",
   "metadata": {
    "slideshow": {
     "slide_type": "subslide"
    }
   },
   "source": [
    "### Mortality Rate By Day\n",
    "\n",
    "The line chart on the next slide shows the mortality rate of each pandemic by day.  The view window (narrow window on the bottom) is interactive.  Double click on the view window and drag the mouse to select a timeframe of interest.  Click and hold the mouse and drag left and right to slide the selected timeframe.  With the mouse over the selected timeframe, scroll up and down to widen and shrink the selected timeframe."
   ]
  },
  {
   "cell_type": "code",
   "execution_count": null,
   "metadata": {
    "scrolled": true,
    "slideshow": {
     "slide_type": "skip"
    }
   },
   "outputs": [],
   "source": [
    "interval_deaths = alt.selection_interval(encodings=['x'])\n",
    "\n",
    "base_deaths = alt.Chart(data).mark_line().encode(\n",
    "    x = alt.X('nth_day:Q', scale=alt.Scale(domain=(0,600))),\n",
    "    y = 'Mortality:Q',\n",
    "    color = 'epidemic'\n",
    ")\n",
    "\n",
    "chart_deaths = base_deaths.properties(\n",
    "    width=800,\n",
    "    height=300\n",
    ").encode(\n",
    "    x=alt.X('nth_day:Q', scale=alt.Scale(domain=interval_deaths.ref()))\n",
    ")\n",
    "\n",
    "view_deaths = base_deaths.properties(\n",
    "    width=800,\n",
    "    height=50,\n",
    "    selection=interval_deaths\n",
    ")"
   ]
  },
  {
   "cell_type": "code",
   "execution_count": null,
   "metadata": {
    "slideshow": {
     "slide_type": "subslide"
    }
   },
   "outputs": [],
   "source": [
    "chart_deaths & view_deaths"
   ]
  },
  {
   "cell_type": "markdown",
   "metadata": {
    "slideshow": {
     "slide_type": "subslide"
    }
   },
   "source": [
    "### Reported Cases By Country\n",
    "\n",
    "Scroll to the tree map of the pandemic of interest.  Place mouse over the country to learn the number of reported cases."
   ]
  },
  {
   "cell_type": "code",
   "execution_count": null,
   "metadata": {
    "slideshow": {
     "slide_type": "skip"
    }
   },
   "outputs": [],
   "source": [
    "import plotly.io as pio\n",
    "\n",
    "covidFig = px.treemap(c_lat_grp.sort_values(by='Cases', ascending=False).reset_index(drop=True), \n",
    "                 path=[\"Country\"], values=\"Cases\", title='COVID-19 Cases',\n",
    "                 color_discrete_sequence = px.colors.qualitative.Set1)\n",
    "\n",
    "\n",
    "# fig = px.treemap(c_lat_grp.sort_values(by='Cases', ascending=False).reset_index(drop=True), \n",
    "#                  path=[\"Country\"], values=\"sqrtCases\", title='COVID-19',\n",
    "#                  color_discrete_sequence = px.colors.qualitative.Set1)\n",
    "# fig.show()\n",
    "\n",
    "# pio.write_html(covidFig, file='index_covid_19_cases.html', auto_open=False)\n",
    "\n",
    "ebolaFig = px.treemap(e_lat_grp.sort_values(by='Cases', ascending=False).reset_index(drop=True), \n",
    "                 path=[\"Country\"], values=\"Cases\", title='EBOLA Cases',\n",
    "                 color_discrete_sequence = px.colors.qualitative.Set1)\n",
    "\n",
    "\n",
    "# pio.write_html(ebolaFig, file='index_ebola_14_cases.html', auto_open=False)\n",
    "\n",
    "sarsFig = px.treemap(s_lat_grp.sort_values(by='Cases', ascending=False).reset_index(drop=True), \n",
    "                 path=[\"Country\"], values=\"Cases\", title='SARS Cases',\n",
    "                 color_discrete_sequence = px.colors.qualitative.Set1)\n",
    "\n",
    "\n",
    "# pio.write_html(sarsFig, file='index_sars_03_cases.html', auto_open=False)\n",
    "\n",
    "h1n1Fig = px.treemap(h_lat_grp.sort_values(by='Cases', ascending=False).reset_index(drop=True), \n",
    "                 path=[\"Country\"], values=\"Cases\", title='H1N1 Cases',\n",
    "                 color_discrete_sequence = px.colors.qualitative.Set1)\n",
    "\n",
    "\n",
    "# pio.write_html(h1n1Fig, file='index_h1n1_09_cases.html', auto_open=False)\n",
    "\n",
    "mersFig = px.treemap(mers_cntry, \n",
    "                 path=[\"Country\"], values=\"Confirmed\", title='MERS Cases',\n",
    "                 color_discrete_sequence = px.colors.qualitative.Set1)\n",
    "\n",
    "# pio.write_html(mersFig, file='index_mers_12_cases.html', auto_open=False)"
   ]
  },
  {
   "cell_type": "code",
   "execution_count": null,
   "metadata": {
    "slideshow": {
     "slide_type": "subslide"
    }
   },
   "outputs": [],
   "source": [
    "covidFig.show()"
   ]
  },
  {
   "cell_type": "code",
   "execution_count": null,
   "metadata": {
    "slideshow": {
     "slide_type": "subslide"
    }
   },
   "outputs": [],
   "source": [
    "ebolaFig.show()"
   ]
  },
  {
   "cell_type": "code",
   "execution_count": null,
   "metadata": {
    "slideshow": {
     "slide_type": "subslide"
    }
   },
   "outputs": [],
   "source": [
    "sarsFig.show()"
   ]
  },
  {
   "cell_type": "code",
   "execution_count": null,
   "metadata": {
    "slideshow": {
     "slide_type": "subslide"
    }
   },
   "outputs": [],
   "source": [
    "h1n1Fig.show()"
   ]
  },
  {
   "cell_type": "code",
   "execution_count": null,
   "metadata": {
    "slideshow": {
     "slide_type": "subslide"
    }
   },
   "outputs": [],
   "source": [
    "mersFig.show()"
   ]
  },
  {
   "cell_type": "markdown",
   "metadata": {
    "slideshow": {
     "slide_type": "subslide"
    }
   },
   "source": [
    "### Reported Deaths By Country\n",
    "\n",
    "Scroll to the tree map of the pandemic of interest.  Place mouse over the country to learn the number of reported deaths."
   ]
  },
  {
   "cell_type": "code",
   "execution_count": null,
   "metadata": {
    "slideshow": {
     "slide_type": "skip"
    }
   },
   "outputs": [],
   "source": [
    "covidFig = px.treemap(c_lat_grp.sort_values(by='Deaths', ascending=False).reset_index(drop=True), \n",
    "                 path=[\"Country\"], values=\"Deaths\", title='COVID-19 Deaths',\n",
    "                 color_discrete_sequence = px.colors.qualitative.Set1)\n",
    "\n",
    "\n",
    "# fig = px.treemap(c_lat_grp.sort_values(by='Cases', ascending=False).reset_index(drop=True), \n",
    "#                  path=[\"Country\"], values=\"sqrtCases\", title='COVID-19',\n",
    "#                  color_discrete_sequence = px.colors.qualitative.Set1)\n",
    "# fig.show()\n",
    "\n",
    "# pio.write_html(covidFig, file='index_covid_19_deaths.html', auto_open=False)\n",
    "\n",
    "ebolaFig = px.treemap(e_lat_grp.sort_values(by='Deaths', ascending=False).reset_index(drop=True), \n",
    "                 path=[\"Country\"], values=\"Deaths\", title='EBOLA Deaths',\n",
    "                 color_discrete_sequence = px.colors.qualitative.Set1)\n",
    "\n",
    "\n",
    "# pio.write_html(ebolaFig, file='index_ebola_14_deaths.html', auto_open=False)\n",
    "\n",
    "sarsFig = px.treemap(s_lat_grp.sort_values(by='Deaths', ascending=False).reset_index(drop=True), \n",
    "                 path=[\"Country\"], values=\"Deaths\", title='SARS Deaths',\n",
    "                 color_discrete_sequence = px.colors.qualitative.Set1)\n",
    "\n",
    "\n",
    "# pio.write_html(sarsFig, file='index_sars_03_deaths.html', auto_open=False)\n",
    "\n",
    "h1n1Fig = px.treemap(h_lat_grp.sort_values(by='Deaths', ascending=False).reset_index(drop=True), \n",
    "                 path=[\"Country\"], values=\"Deaths\", title='H1N1 Deaths',\n",
    "                 color_discrete_sequence = px.colors.qualitative.Set1)\n",
    "\n",
    "\n",
    "# pio.write_html(h1n1Fig, file='index_h1n1_09_deaths.html', auto_open=False)\n",
    "\n",
    "mersFig = px.treemap(mers_cntry, \n",
    "                 path=[\"Country\"], values=\"Confirmed\", title='MERS',\n",
    "                 color_discrete_sequence = px.colors.qualitative.Set1)\n",
    "\n",
    "# pio.write_html(mersFig, file='index_mers_12.html', auto_open=True)"
   ]
  },
  {
   "cell_type": "code",
   "execution_count": null,
   "metadata": {
    "slideshow": {
     "slide_type": "subslide"
    }
   },
   "outputs": [],
   "source": [
    "covidFig.show()"
   ]
  },
  {
   "cell_type": "code",
   "execution_count": null,
   "metadata": {
    "slideshow": {
     "slide_type": "subslide"
    }
   },
   "outputs": [],
   "source": [
    "ebolaFig.show()"
   ]
  },
  {
   "cell_type": "code",
   "execution_count": null,
   "metadata": {
    "slideshow": {
     "slide_type": "subslide"
    }
   },
   "outputs": [],
   "source": [
    "sarsFig.show()"
   ]
  },
  {
   "cell_type": "code",
   "execution_count": null,
   "metadata": {
    "slideshow": {
     "slide_type": "subslide"
    }
   },
   "outputs": [],
   "source": [
    "h1n1Fig.show()"
   ]
  },
  {
   "cell_type": "code",
   "execution_count": null,
   "metadata": {
    "slideshow": {
     "slide_type": "subslide"
    }
   },
   "outputs": [],
   "source": [
    "mersFig.show()"
   ]
  },
  {
   "cell_type": "markdown",
   "metadata": {
    "slideshow": {
     "slide_type": "slide"
    }
   },
   "source": [
    "### COVID-19 Vulnerable Counties in USA - In this interactive chart series we are going to see how ICU beds are distributed across Counties. Goal is to show the most vulnerable counties having least to no ICU beds for the population it is serving. "
   ]
  },
  {
   "cell_type": "markdown",
   "metadata": {
    "slideshow": {
     "slide_type": "slide"
    }
   },
   "source": [
    "## Most Vulnerable Counties having no ICU Beds in US"
   ]
  },
  {
   "cell_type": "code",
   "execution_count": null,
   "metadata": {
    "slideshow": {
     "slide_type": "fragment"
    }
   },
   "outputs": [],
   "source": [
    "#print(\"Most Vulnerable Counties having No ICU Beds\")\n",
    "chart = alt.Chart(countWithNoICUBeds).mark_circle(size=50).encode(\n",
    "    x='Total_Population',\n",
    "    y='Population_Aged_60+',\n",
    "    color='State',\n",
    "    tooltip=['State', 'County','Percent_Population_Aged_60','Population_Aged_60+','Total_Population']\n",
    ").properties(\n",
    "    title='Vulnerable Counties in US having Zero ICU Bed per County'\n",
    ")\n",
    "chart.configure_title(\n",
    "    fontSize=20,\n",
    "    font='Arial',\n",
    "    anchor='start',\n",
    "    color='gray'\n",
    ")"
   ]
  },
  {
   "cell_type": "markdown",
   "metadata": {
    "slideshow": {
     "slide_type": "subslide"
    }
   },
   "source": [
    "## Vulnerable Counties in US having atleast one ICU Bed, ratio of Seniors to population along with bed to individuals ratio"
   ]
  },
  {
   "cell_type": "code",
   "execution_count": null,
   "metadata": {
    "slideshow": {
     "slide_type": "skip"
    }
   },
   "outputs": [],
   "source": [
    "alt.data_transformers.disable_max_rows()"
   ]
  },
  {
   "cell_type": "code",
   "execution_count": null,
   "metadata": {
    "slideshow": {
     "slide_type": "fragment"
    }
   },
   "outputs": [],
   "source": [
    "\n",
    "jhuDailyDataSet = jhuDailyDataSet.rename(columns={'state':'State','county':'County'})\n",
    "jhuAggregateDataSet = jhuDailyDataSet.groupby(['State','County'])\n",
    "jhuAggregateDataSetAggregate = jhuAggregateDataSet.agg(np.sum)\n",
    "#jhuAggregateDataSetAggregate\n",
    "mergedDataSet = pd.merge(jhuAggregateDataSetAggregate,countiesWithICUBeds,left_on='State',right_on='State')\n",
    "\n",
    "chart2 = alt.Chart(mergedDataSet).mark_circle(size=50).encode(\n",
    "    x='cases',\n",
    "    y='Residents_Per_ICU_Bed',\n",
    "    color='State',\n",
    "    tooltip=['State', 'County','Percent_Population_Aged_60','Population_Aged_60+','Total_Population','cases','deaths','Residents_Per_ICU_Bed']\n",
    ").properties(\n",
    "    title='Vulnerable Counties in US having atleast One ICU Bed per County'\n",
    ")\n",
    "\n",
    "chart2.configure_title(\n",
    "    fontSize=20,\n",
    "    font='Arial',\n",
    "    anchor='start',\n",
    "    color='gray'\n",
    ")"
   ]
  },
  {
   "cell_type": "markdown",
   "metadata": {
    "slideshow": {
     "slide_type": "slide"
    }
   },
   "source": [
    "## Price changes in different sectors and S&P 500 index\n",
    "### Price of leading company in industries impacted are listed, price of United Airline and Marriott dropped significantly while Microsoft and Johnson & Johnson are relatively stable"
   ]
  },
  {
   "cell_type": "code",
   "execution_count": null,
   "metadata": {
    "slideshow": {
     "slide_type": "fragment"
    }
   },
   "outputs": [],
   "source": [
    "df = result2.loc[result2['symbol'].isin(['^GSPC','MSFT', 'JPM', 'JNJ', 'UAL','MAR'])]\n",
    "\n",
    "\n",
    "\n",
    "# Create a selection that chooses the nearest point & selects based on x-value\n",
    "nearest = alt.selection(type='single', nearest=True, on='mouseover',\n",
    "                        fields=['date'], empty='none')\n",
    "\n",
    "\n",
    "# The basic line\n",
    "line = alt.Chart(df).mark_line(interpolate='basis').encode(\n",
    "    x= alt.X('date:T', title='Sectors and Index'),\n",
    "    y='change:Q',\n",
    "    color='label:N'\n",
    "    )\n",
    "\n",
    "# Transparent selectors across the chart. This is what tells us\n",
    "# the x-value of the cursor\n",
    "selectors = alt.Chart(df).mark_point().encode(\n",
    "    x='date:T',\n",
    "    opacity=alt.value(0),\n",
    ").add_selection(\n",
    "    nearest\n",
    ")\n",
    "\n",
    "# Draw points on the line, and highlight based on selection\n",
    "points = line.mark_point().encode(\n",
    "    opacity=alt.condition(nearest, alt.value(1), alt.value(0))\n",
    ")\n",
    "\n",
    "# Draw text labels near the points, and highlight based on selection\n",
    "text = line.mark_text(align='left', dx=5, dy=-5).encode(\n",
    "    text=alt.condition(nearest, 'change:Q', alt.value(' '))#alt.X('PercentOfTotal:Q', axis=alt.Axis(format='.0%'))\n",
    ")\n",
    "#alt.X('PercentOfTotal:Q', axis=alt.Axis(format='.0%'))\n",
    "# Draw a rule at the location of the selection\n",
    "rules = alt.Chart(df).mark_rule(color='gray').encode(\n",
    "    x='date:T',\n",
    ").transform_filter(\n",
    "    nearest\n",
    ")\n",
    "\n",
    "# Put the five layers into a chart and bind the data\n",
    "alt.layer(\n",
    "    line, selectors, points, rules, text\n",
    ").properties(\n",
    "    width=600, height=300\n",
    ")\n",
    "#chart.save(html)"
   ]
  },
  {
   "cell_type": "markdown",
   "metadata": {
    "slideshow": {
     "slide_type": "subslide"
    }
   },
   "source": [
    "## Changes of indexes\n",
    "### Dow Jones dropped significantly after confirmed case number increased to more than 1000. Market became opstimastic from then end of March"
   ]
  },
  {
   "cell_type": "code",
   "execution_count": null,
   "metadata": {
    "slideshow": {
     "slide_type": "fragment"
    }
   },
   "outputs": [],
   "source": [
    "source2 = [{\n",
    "            \"start\": \"2020-01-04\",\n",
    "            \"end\": \"2020-01-22\",\n",
    "            \"event\": \"No Confirmed case in US\"\n",
    "          },\n",
    "          {\n",
    "            \"start\": \"2020-01-23\",\n",
    "            \"end\": \"2020-03-10\",\n",
    "            \"event\": \"Confimed case <1000 in US\"\n",
    "          },\n",
    "          {\n",
    "           \"start\": \"2020-03-11\",\n",
    "            \"end\": \"2020-04-08\",\n",
    "            \"event\": \"Confimed case >1000 in US\"   \n",
    "          }  ]\n",
    "\n",
    "\n",
    "source2 = alt.pd.DataFrame(source2)\n",
    "\n",
    "highlight = alt.selection(type='single', on='mouseover',\n",
    "                          fields=['label'], nearest=True)\n",
    "\n",
    "base = alt.Chart(df_index).encode(\n",
    "    x= alt.X('date:T', title='Indexes'),\n",
    "    y='change:Q',\n",
    "    #y=alt.Y('change:Q', axis=alt.Axis(format='.0%'))\n",
    "    color=alt.Color('label:N', scale=alt.Scale(scheme='tableau20'))\n",
    ")\n",
    "\n",
    "points = base.mark_circle().encode(\n",
    "    opacity=alt.value(0)\n",
    ").add_selection(\n",
    "    highlight\n",
    ").properties(\n",
    "    width=600\n",
    ")\n",
    "\n",
    "lines = base.mark_line().encode(\n",
    "    size=alt.condition(~highlight, alt.value(1), alt.value(3))\n",
    ")\n",
    "rect = alt.Chart(source2).mark_rect().encode(\n",
    "    x='start:T',\n",
    "    x2='end:T',\n",
    "    color=alt.Color('event:N', legend=alt.Legend(title=\"Legend\"))\n",
    ")\n",
    "\n",
    "rect + points + lines"
   ]
  },
  {
   "cell_type": "markdown",
   "metadata": {
    "slideshow": {
     "slide_type": "slide"
    }
   },
   "source": [
    "## Price of Technology stocks droped about 20% in the week of March 15"
   ]
  },
  {
   "cell_type": "code",
   "execution_count": null,
   "metadata": {
    "slideshow": {
     "slide_type": "fragment"
    }
   },
   "outputs": [],
   "source": [
    "#Tech\n",
    "\n",
    "df_IT = result.loc[result['symbol'].isin(['FB','GOOGL','MSFT'])]\n",
    "\n",
    "\n",
    "highlight = alt.selection(type='single', on='mouseover',\n",
    "                          fields=['symbol'], nearest=True)\n",
    "\n",
    "base = alt.Chart(df_IT).encode(\n",
    "    x= alt.X('date:T', title='Technology'),\n",
    "    y='change:Q',\n",
    "    color=alt.Color('symbol:N', scale=alt.Scale(scheme='tableau10'))\n",
    ")\n",
    "\n",
    "points = base.mark_circle().encode(\n",
    "    opacity=alt.value(0)\n",
    ").add_selection(\n",
    "    highlight\n",
    ").properties(\n",
    "    width=600\n",
    ")\n",
    "\n",
    "lines = base.mark_line().encode(\n",
    "    size=alt.condition(~highlight, alt.value(1), alt.value(3))\n",
    ")\n",
    "rect = alt.Chart(source2).mark_rect().encode(\n",
    "    x='start:T',\n",
    "    x2='end:T',\n",
    "    color=alt.Color('event:N', legend=alt.Legend(title=\"Legend\"))\n",
    ")\n",
    "\n",
    "rect + points + lines"
   ]
  },
  {
   "cell_type": "markdown",
   "metadata": {
    "slideshow": {
     "slide_type": "subslide"
    }
   },
   "source": [
    "## Price of Financial stocks droped about 40% in the week of March 15"
   ]
  },
  {
   "cell_type": "code",
   "execution_count": null,
   "metadata": {
    "slideshow": {
     "slide_type": "fragment"
    }
   },
   "outputs": [],
   "source": [
    "#Financial\n",
    "\n",
    "df_IT = result.loc[result['symbol'].isin(['JPM','BAC','WFC'])]\n",
    "\n",
    "\n",
    "highlight = alt.selection(type='single', on='mouseover',\n",
    "                          fields=['symbol'], nearest=True)\n",
    "\n",
    "base = alt.Chart(df_IT).encode(\n",
    "    x= alt.X('date:T', title='Financial'),\n",
    "    y='change:Q',\n",
    "    color=alt.Color('symbol:N', scale=alt.Scale(scheme='tableau10'))\n",
    ")\n",
    "\n",
    "points = base.mark_circle().encode(\n",
    "    opacity=alt.value(0)\n",
    ").add_selection(\n",
    "    highlight\n",
    ").properties(\n",
    "    width=600\n",
    ")\n",
    "\n",
    "lines = base.mark_line().encode(\n",
    "    size=alt.condition(~highlight, alt.value(1), alt.value(3))\n",
    ")\n",
    "rect = alt.Chart(source2).mark_rect().encode(\n",
    "    x='start:T',\n",
    "    x2='end:T',\n",
    "    color=alt.Color('event:N', legend=alt.Legend(title=\"Legend\"))\n",
    ")\n",
    "\n",
    "rect + points + lines"
   ]
  },
  {
   "cell_type": "markdown",
   "metadata": {
    "slideshow": {
     "slide_type": "subslide"
    }
   },
   "source": [
    "## Price of Healthcare stocks droped about 20% in the week of March 15"
   ]
  },
  {
   "cell_type": "code",
   "execution_count": null,
   "metadata": {
    "slideshow": {
     "slide_type": "fragment"
    }
   },
   "outputs": [],
   "source": [
    "#Health\n",
    "\n",
    "df_IT = result.loc[result['symbol'].isin(['JNJ','MRK','CVS'])]\n",
    "\n",
    "\n",
    "highlight = alt.selection(type='single', on='mouseover',\n",
    "                          fields=['symbol'], nearest=True)\n",
    "\n",
    "base = alt.Chart(df_IT).encode(\n",
    "    x= alt.X('date:T', title='Healthcare'),\n",
    "    y='change:Q',\n",
    "    color=alt.Color('symbol:N', scale=alt.Scale(scheme='tableau10'))\n",
    ")\n",
    "\n",
    "points = base.mark_circle().encode(\n",
    "    opacity=alt.value(0)\n",
    ").add_selection(\n",
    "    highlight\n",
    ").properties(\n",
    "    width=600\n",
    ")\n",
    "\n",
    "lines = base.mark_line().encode(\n",
    "    size=alt.condition(~highlight, alt.value(1), alt.value(3))\n",
    ")\n",
    "rect = alt.Chart(source2).mark_rect().encode(\n",
    "    x='start:T',\n",
    "    x2='end:T',\n",
    "    color=alt.Color('event:N', legend=alt.Legend(title=\"Legend\"))\n",
    ")\n",
    "\n",
    "rect + points + lines"
   ]
  },
  {
   "cell_type": "markdown",
   "metadata": {
    "slideshow": {
     "slide_type": "subslide"
    }
   },
   "source": [
    "## Price of Airlines stocks droped about 60% in the week of March 15\n"
   ]
  },
  {
   "cell_type": "code",
   "execution_count": null,
   "metadata": {
    "slideshow": {
     "slide_type": "fragment"
    }
   },
   "outputs": [],
   "source": [
    "#Airline\n",
    "\n",
    "df_IT = result.loc[result['symbol'].isin(['UAL','DAL','AAL'])]\n",
    "\n",
    "\n",
    "highlight = alt.selection(type='single', on='mouseover',\n",
    "                          fields=['symbol'], nearest=True)\n",
    "\n",
    "base = alt.Chart(df_IT).encode(\n",
    "    x= alt.X('date:T', title='Airlines'),\n",
    "    y='change:Q',\n",
    "    color=alt.Color('symbol:N', scale=alt.Scale(scheme='tableau10'))\n",
    ")\n",
    "\n",
    "points = base.mark_circle().encode(\n",
    "    opacity=alt.value(0)\n",
    ").add_selection(\n",
    "    highlight\n",
    ").properties(\n",
    "    width=600\n",
    ")\n",
    "\n",
    "lines = base.mark_line().encode(\n",
    "    size=alt.condition(~highlight, alt.value(1), alt.value(3))\n",
    ")\n",
    "rect = alt.Chart(source2).mark_rect().encode(\n",
    "    x='start:T',\n",
    "    x2='end:T',\n",
    "    color=alt.Color('event:N', legend=alt.Legend(title=\"Legend\"))\n",
    ")\n",
    "\n",
    "rect + points + lines"
   ]
  },
  {
   "cell_type": "markdown",
   "metadata": {
    "slideshow": {
     "slide_type": "subslide"
    }
   },
   "source": [
    "## Price of Hotel stocks droped about 50% in the week of March 15"
   ]
  },
  {
   "cell_type": "code",
   "execution_count": null,
   "metadata": {
    "slideshow": {
     "slide_type": "fragment"
    }
   },
   "outputs": [],
   "source": [
    "#Hotel\n",
    "\n",
    "df_IT = result.loc[result['symbol'].isin(['MAR','HLT','H'])]\n",
    "\n",
    "\n",
    "highlight = alt.selection(type='single', on='mouseover',\n",
    "                          fields=['symbol'], nearest=True)\n",
    "\n",
    "base = alt.Chart(df_IT).encode(\n",
    "    x= alt.X('date:T', title='Hotels'),\n",
    "    y='change:Q',\n",
    "    color=alt.Color('symbol:N', scale=alt.Scale(scheme='tableau10'))\n",
    ")\n",
    "\n",
    "points = base.mark_circle().encode(\n",
    "    opacity=alt.value(0)\n",
    ").add_selection(\n",
    "    highlight\n",
    ").properties(\n",
    "    width=600\n",
    ")\n",
    "\n",
    "lines = base.mark_line().encode(\n",
    "    size=alt.condition(~highlight, alt.value(1), alt.value(3))\n",
    ")\n",
    "rect = alt.Chart(source2).mark_rect().encode(\n",
    "    x='start:T',\n",
    "    x2='end:T',\n",
    "    color=alt.Color('event:N', legend=alt.Legend(title=\"Legend\"))\n",
    ")\n",
    "\n",
    "rect + points + lines"
   ]
  },
  {
   "cell_type": "code",
   "execution_count": null,
   "metadata": {},
   "outputs": [],
   "source": []
  }
 ],
 "metadata": {
  "celltoolbar": "Slideshow",
  "jupytext": {
   "formats": "ipynb"
  },
  "kernelspec": {
   "display_name": "Python 3",
   "language": "python",
   "name": "python3"
  },
  "language_info": {
   "codemirror_mode": {
    "name": "ipython",
    "version": 3
   },
   "file_extension": ".py",
   "mimetype": "text/x-python",
   "name": "python",
   "nbconvert_exporter": "python",
   "pygments_lexer": "ipython3",
   "version": "3.7.4"
  },
  "rise": {
   "autolaunch": true,
   "scroll": true
  }
 },
 "nbformat": 4,
 "nbformat_minor": 2
}
